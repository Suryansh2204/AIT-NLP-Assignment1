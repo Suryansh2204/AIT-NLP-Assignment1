{
 "cells": [
  {
   "cell_type": "markdown",
   "metadata": {},
   "source": [
    "# Name : Suryansh Srivastava\n",
    "# ID   : 124997"
   ]
  },
  {
   "cell_type": "markdown",
   "metadata": {},
   "source": [
    "## Task 2\n"
   ]
  },
  {
   "cell_type": "code",
   "execution_count": 2,
   "metadata": {},
   "outputs": [],
   "source": [
    "import numpy as np\n",
    "import pickle"
   ]
  },
  {
   "cell_type": "code",
   "execution_count": 4,
   "metadata": {},
   "outputs": [],
   "source": [
    "import sys\n",
    "import os\n",
    "sys.path.append(os.path.abspath('../'))\n",
    "from models.skipgram import Skipgram\n",
    "from models.skipgram_negSampling import SkipgramNeg\n",
    "from models.glove import Glove"
   ]
  },
  {
   "cell_type": "code",
   "execution_count": 5,
   "metadata": {},
   "outputs": [],
   "source": [
    "# Load models from pickle files\n",
    "def load_model(filepath):\n",
    "    with open(filepath, 'rb') as f:\n",
    "        return pickle.load(f)"
   ]
  },
  {
   "cell_type": "code",
   "execution_count": 7,
   "metadata": {},
   "outputs": [],
   "source": [
    "models = {\n",
    "    \"Skipgram\": \"./models/skipgram_model.pkl\",\n",
    "    \"SkipgramNEG\": \"./models/skipgram_negSampling_model.pkl\",\n",
    "    \"Glove\": \"./models/glove_model.pkl\",\n",
    "    \"GloveGensim\": \"./models/glove_gensim_model.pkl\"\n",
    "}"
   ]
  },
  {
   "cell_type": "code",
   "execution_count": 8,
   "metadata": {},
   "outputs": [],
   "source": [
    "# Load models\n",
    "loaded_models = {name: load_model(path) for name, path in models.items()}"
   ]
  },
  {
   "cell_type": "code",
   "execution_count": 24,
   "metadata": {},
   "outputs": [],
   "source": [
    "with open('./models/glove_word2index.pkl', 'rb') as f:\n",
    "    word2index = pickle.load(f)\n",
    "\n",
    "with open('./models/glove_index2word.pkl', 'rb') as f:\n",
    "    index2word = pickle.load(f)\n",
    "\n",
    "center_embeddings = loaded_models[\"Glove\"].center_embedding.weight.data\n",
    "outside_embeddings = loaded_models[\"Glove\"].outside_embedding.weight.data\n",
    "\n",
    "word_to_idx = word2index\n",
    "idx_to_word = index2word"
   ]
  },
  {
   "cell_type": "code",
   "execution_count": 25,
   "metadata": {},
   "outputs": [],
   "source": [
    "# Word analogy dataset url\n",
    "wordAnalogy_url = \"https://www.fit.vutbr.cz/~imikolov/rnnlm/word-test.v1.txt\""
   ]
  },
  {
   "cell_type": "code",
   "execution_count": 26,
   "metadata": {},
   "outputs": [],
   "source": [
    "import requests\n",
    "# syntactic \n",
    "def load_word_analogy_data_for_syntactic_accuracy(url):\n",
    "    response = requests.get(url)\n",
    "    response.raise_for_status()\n",
    "    lines = response.text.strip().split('\\n')\n",
    "    \n",
    "    # Extract specific section\n",
    "    section_start = ': gram7-past-tense'\n",
    "    section_end = ': gram8-plural'\n",
    "    extract_lines = []\n",
    "    in_section = False\n",
    "\n",
    "    for line in lines:\n",
    "        if line.startswith(section_start):\n",
    "            in_section = True\n",
    "            continue\n",
    "        elif line.startswith(section_end):\n",
    "            break\n",
    "\n",
    "        if in_section:\n",
    "            extract_lines.append(line)\n",
    "\n",
    "    return [line.split() for line in extract_lines if line]"
   ]
  },
  {
   "cell_type": "code",
   "execution_count": 27,
   "metadata": {},
   "outputs": [],
   "source": [
    "# semantic\n",
    "def load_word_analogy_data_for_semantic_accuracy(url):\n",
    "    response = requests.get(url)\n",
    "    response.raise_for_status()\n",
    "    lines = response.text.strip().split('\\n')\n",
    "    \n",
    "    # Extract specific section\n",
    "    section_start = ': capital-common-countries'\n",
    "    section_end = ': currency'\n",
    "    extract_lines = []\n",
    "    in_section = False\n",
    "\n",
    "    for line in lines:\n",
    "        if line.startswith(section_start):\n",
    "            in_section = True\n",
    "            continue\n",
    "        elif line.startswith(section_end):\n",
    "            break\n",
    "\n",
    "        if in_section:\n",
    "            extract_lines.append(line)\n",
    "\n",
    "    return [line.split() for line in extract_lines if line]"
   ]
  },
  {
   "cell_type": "code",
   "execution_count": 28,
   "metadata": {},
   "outputs": [],
   "source": [
    "syntactic_analogy_data = load_word_analogy_data_for_syntactic_accuracy(wordAnalogy_url)\n",
    "semantic_analogy_data = load_word_analogy_data_for_semantic_accuracy(wordAnalogy_url)"
   ]
  },
  {
   "cell_type": "code",
   "execution_count": 33,
   "metadata": {},
   "outputs": [],
   "source": [
    "import torch\n",
    "def predict_analogy(word_a, word_b, word_c, embeddings, word_to_idx, idx_to_word):\n",
    "    try:\n",
    "        vec_a = embeddings[word_to_idx[word_a]]\n",
    "        vec_b = embeddings[word_to_idx[word_b]]\n",
    "        vec_c = embeddings[word_to_idx[word_c]]\n",
    "        target_vec = vec_b - vec_a + vec_c\n",
    "\n",
    "        similarities = torch.matmul(embeddings, target_vec) / (\n",
    "            torch.norm(embeddings, dim=1) * torch.norm(target_vec) + 1e-8\n",
    "        )\n",
    "        best_match_idx = torch.argmax(similarities).item()\n",
    "        return idx_to_word[best_match_idx]\n",
    "    except KeyError as e:\n",
    "        return None  # Return None if any word is not in the vocabulary"
   ]
  },
  {
   "cell_type": "code",
   "execution_count": 34,
   "metadata": {},
   "outputs": [],
   "source": [
    "def evaluate_semantic_accuracy(analogy_data, embeddings, word_to_idx, idx_to_word):\n",
    "    correct = 0\n",
    "    total = 0\n",
    "\n",
    "    for question in analogy_data:\n",
    "        if len(question) != 4:\n",
    "            continue\n",
    "        word_a, word_b, word_c, word_d = question\n",
    "        predicted_word = predict_analogy(word_a, word_b, word_c, embeddings, word_to_idx, idx_to_word)\n",
    "\n",
    "        if predicted_word == word_d:\n",
    "            correct += 1\n",
    "\n",
    "        total += 1\n",
    "\n",
    "    accuracy = correct / total if total > 0 else 0\n",
    "    return accuracy"
   ]
  },
  {
   "cell_type": "code",
   "execution_count": 35,
   "metadata": {},
   "outputs": [],
   "source": [
    "def evaluate_syntactic_accuracy(analogy_data, embeddings, word_to_idx, idx_to_word):\n",
    "    syntactic_correct = 0\n",
    "    syntactic_total = 0\n",
    "\n",
    "    for question in analogy_data:\n",
    "        if len(question) != 4:\n",
    "            continue\n",
    "        word_a, word_b, word_c, word_d = question\n",
    "        # Process syntactic relationships directly from the dataset\n",
    "        if word_a.endswith(\"ing\") or word_a.endswith(\"ed\"):\n",
    "            predicted_word = predict_analogy(word_a, word_b, word_c, embeddings, word_to_idx, idx_to_word)\n",
    "\n",
    "            if predicted_word == word_d:\n",
    "                syntactic_correct += 1\n",
    "\n",
    "            syntactic_total += 1\n",
    "\n",
    "    syntactic_accuracy = syntactic_correct / syntactic_total if syntactic_total > 0 else 0\n",
    "    return syntactic_accuracy"
   ]
  },
  {
   "cell_type": "code",
   "execution_count": 38,
   "metadata": {},
   "outputs": [
    {
     "name": "stdout",
     "output_type": "stream",
     "text": [
      "Syntactic Accuracy: 0.00%\n",
      "Semantic Accuracy: 0.00%\n"
     ]
    }
   ],
   "source": [
    "syntactic_accuracy = evaluate_syntactic_accuracy(syntactic_analogy_data, center_embeddings, word_to_idx, idx_to_word)\n",
    "semantic_accuracy = evaluate_semantic_accuracy(semantic_analogy_data, center_embeddings, word_to_idx, idx_to_word)\n",
    "\n",
    "print(f\"Syntactic Accuracy: {syntactic_accuracy * 100:.2f}%\")\n",
    "print(f\"Semantic Accuracy: {semantic_accuracy * 100:.2f}%\")"
   ]
  },
  {
   "cell_type": "markdown",
   "metadata": {},
   "source": [
    "### 1.Compare Skip-gram, Skip-gram negative sampling, GloVe models on training loss, training time. "
   ]
  },
  {
   "cell_type": "markdown",
   "metadata": {},
   "source": [
    "- From the four notebooks i.e. 01 - Word2Vec (Skipgram).ipynb, 02 - Word2Vec (Neg Sampling).ipynb, 03 - GloVe from Scratch.ipynb and 04 - GloVe (Gensim).ipynb which are used to train their respective models, we observe the training loss and training time for each model\n",
    "\n"
   ]
  },
  {
   "cell_type": "markdown",
   "metadata": {},
   "source": [
    "| Model            | Window Size | Training Loss | Training time | Syntactic Accuracy | Semantic Accuracy |\n",
    "|-----------------|-------------|--------------|---------------|--------------------|-------------------|\n",
    "| Skipgram       |             |              |               |                    |                   |\n",
    "| Skipgram (NEG) |             |              |               |                    |                   |\n",
    "| Glove          |             |              |               |                    |                   |\n",
    "| Glove (Gensim) |             |      -       |       -       |                    |                   |\n"
   ]
  },
  {
   "cell_type": "markdown",
   "metadata": {},
   "source": []
  }
 ],
 "metadata": {
  "kernelspec": {
   "display_name": "base",
   "language": "python",
   "name": "python3"
  },
  "language_info": {
   "codemirror_mode": {
    "name": "ipython",
    "version": 3
   },
   "file_extension": ".py",
   "mimetype": "text/x-python",
   "name": "python",
   "nbconvert_exporter": "python",
   "pygments_lexer": "ipython3",
   "version": "3.12.7"
  }
 },
 "nbformat": 4,
 "nbformat_minor": 2
}
